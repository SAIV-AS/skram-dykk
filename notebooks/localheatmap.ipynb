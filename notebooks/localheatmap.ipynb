{
 "cells": [
  {
   "cell_type": "code",
   "execution_count": 2,
   "metadata": {
    "collapsed": false
   },
   "outputs": [
    {
     "name": "stdout",
     "output_type": "stream",
     "text": [
      "{'timeframe': '3H', 'ts': {'$date': 1431442800000}, 'divedata': [{'temp': 8.684283080366667, 'pressure(dBAR)': 3.5}, {'temp': nan, 'pressure(dBAR)': 14.5}, {'temp': 8.646019395633333, 'pressure(dBAR)': 6.5}, {'temp': 8.653612691666666, 'pressure(dBAR)': 5.5}, {'temp': 8.668850115933333, 'pressure(dBAR)': 4.5}, {'temp': nan, 'pressure(dBAR)': 18.5}, {'temp': nan, 'pressure(dBAR)': 9.5}, {'temp': 8.7328859405, 'pressure(dBAR)': 2.5}, {'temp': 8.637105864433332, 'pressure(dBAR)': 7.5}, {'temp': nan, 'pressure(dBAR)': 12.5}, {'temp': nan, 'pressure(dBAR)': 15.5}, {'temp': nan, 'pressure(dBAR)': 11.5}, {'temp': nan, 'pressure(dBAR)': 13.5}, {'temp': nan, 'pressure(dBAR)': 17.5}, {'temp': 8.795728878633334, 'pressure(dBAR)': 1.5}, {'temp': 8.9912156023, 'pressure(dBAR)': 0.5}, {'temp': 8.624773825233333, 'pressure(dBAR)': 8.5}, {'temp': nan, 'pressure(dBAR)': 10.5}, {'temp': nan, 'pressure(dBAR)': 16.5}], '_id': {'$oid': '579a4f7b2505660da2e1e2fc'}, 'datatype': 'temp'}\n"
     ]
    }
   ],
   "source": [
    "import requests\n",
    "import json\n",
    "import pandas as pd\n",
    "import datetime\n",
    "import plotly.plotly as py\n",
    "import plotly.graph_objs as go\n",
    "py.sign_in('njberland', 'wmmhuc7bkj')\n",
    "\n",
    "SERVERURL = \"http://146.185.167.10/resampled/\"\n",
    "\n",
    "datatypes = [\"fluorescens\", \"temp\", \"salt\", \"oxygene\",  \"turbidity\"]\n",
    "datatype = 'temp'\n",
    "\n",
    "# get the data from the server\n",
    "r = requests.get(SERVERURL+datatype+\".json\")\n",
    "\n",
    "# make the JSON data native Python datastructure\n",
    "d = json.loads(r.text)\n",
    "\n",
    "# view one of the dive data\n",
    "print(d[0])"
   ]
  },
  {
   "cell_type": "code",
   "execution_count": 8,
   "metadata": {
    "collapsed": false
   },
   "outputs": [
    {
     "data": {
      "text/html": [
       "<iframe id=\"igraph\" scrolling=\"no\" style=\"border:none;\" seamless=\"seamless\" src=\"https://plot.ly/~njberland/54.embed\" height=\"525px\" width=\"100%\"></iframe>"
      ],
      "text/plain": [
       "<plotly.tools.PlotlyDisplay object>"
      ]
     },
     "execution_count": 8,
     "metadata": {},
     "output_type": "execute_result"
    }
   ],
   "source": [
    "# make a N*M matrix of the data and make sure the number of bins are OK\n",
    "# we assume that all dives have a measurement that begins at 0.5 - if this is not true we need some rewrite              \n",
    "y= []\n",
    "x= []\n",
    "tempz = []\n",
    "\n",
    "# create the matrix and lists for x and y labels\n",
    "for i in d:\n",
    "    x.append(datetime.datetime.fromtimestamp(i['ts']['$date']/1000))\n",
    "    \n",
    "    col = []\n",
    "\n",
    "    # sort the list so the dictionaries are sorted according to pressure\n",
    "    newlist = sorted(i['divedata'], key=lambda k: -k['pressure(dBAR)'])\n",
    "    for j in newlist:\n",
    "        col.append(j[datatype])\n",
    "        if -j['pressure(dBAR)'] not in y:\n",
    "            y.append(-j['pressure(dBAR)'])\n",
    "\n",
    "    tempz.append(col)\n",
    "    #x.append(i['ts'])\n",
    "z = list(map(list, zip(*tempz)))\n",
    "y = sorted(y)\n",
    "\n",
    "# tell plotly what to plot!\n",
    "data=[\n",
    "    go.Heatmap(\n",
    "        z=z,\n",
    "        x=x,\n",
    "        y=y,\n",
    "        type='heatmap'\n",
    "        ),\n",
    "    ]\n",
    "\n",
    "# go do it!\n",
    "py.iplot(data, filename='labelled-heatmap')"
   ]
  },
  {
   "cell_type": "code",
   "execution_count": null,
   "metadata": {
    "collapsed": true
   },
   "outputs": [],
   "source": []
  }
 ],
 "metadata": {
  "kernelspec": {
   "display_name": "Python 3",
   "language": "python",
   "name": "python3"
  },
  "language_info": {
   "codemirror_mode": {
    "name": "ipython",
    "version": 3
   },
   "file_extension": ".py",
   "mimetype": "text/x-python",
   "name": "python",
   "nbconvert_exporter": "python",
   "pygments_lexer": "ipython3",
   "version": "3.5.1"
  }
 },
 "nbformat": 4,
 "nbformat_minor": 0
}
