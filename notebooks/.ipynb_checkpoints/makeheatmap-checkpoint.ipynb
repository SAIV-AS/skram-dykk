{
 "cells": [
  {
   "cell_type": "code",
   "execution_count": 40,
   "metadata": {
    "collapsed": false
   },
   "outputs": [
    {
     "data": {
      "text/html": [
       "<iframe id=\"igraph\" scrolling=\"no\" style=\"border:none;\" seamless=\"seamless\" src=\"https://plot.ly/~njberland/52.embed\" height=\"525px\" width=\"100%\"></iframe>"
      ],
      "text/plain": [
       "<plotly.tools.PlotlyDisplay object>"
      ]
     },
     "execution_count": 40,
     "metadata": {},
     "output_type": "execute_result"
    }
   ],
   "source": [
    "import plotly.plotly as py\n",
    "import plotly.graph_objs as go\n",
    "py.sign_in('njberland', 'wmmhuc7bkj')\n",
    "import pymongo\n",
    "\n",
    "def generate_datasets(timeframe,datatype):\n",
    "\n",
    "    coll = pymongo.MongoClient().saivasdata.resampled\n",
    "\n",
    "    z = []\n",
    "    y = []\n",
    "    x = []\n",
    "    for curs in coll.find({\"timeframe\": timeframe, \"datatype\": datatype}).sort(\"ts\",pymongo.ASCENDING):\n",
    "        #print(curs)\n",
    "\n",
    "        col = []\n",
    "        # sort the list so the dictionaries are sorted according to pressure\n",
    "        newlist = sorted(curs['divedata'], key=lambda k: -k['pressure(dBAR)']) \n",
    "        for i in newlist:\n",
    "            col.append(i[datatype])\n",
    "            if -i['pressure(dBAR)'] not in y:\n",
    "                y.append(-i['pressure(dBAR)'])\n",
    "                \n",
    "        z.append(col)\n",
    "        x.append(curs['ts'])\n",
    "    #print(z)\n",
    "    z2 = list(map(list, zip(*z)))\n",
    "    y = sorted(y)\n",
    "    return [go.Heatmap(x=x,y=y,z=z2)]\n",
    "\n",
    "\n",
    "data = generate_datasets('3H','temp')\n",
    "layout = go.Layout(\n",
    "    title='Depth vs {}'.format('temp'),)\n",
    "\n",
    "fig = go.Figure(data=data, layout=layout)\n",
    "py.iplot(fig, filename='gabrielheatmap')\n"
   ]
  },
  {
   "cell_type": "code",
   "execution_count": 26,
   "metadata": {
    "collapsed": false
   },
   "outputs": [
    {
     "name": "stdout",
     "output_type": "stream",
     "text": [
      "1 2 3\n"
     ]
    }
   ],
   "source": [
    "def dust():\n",
    "    return 1,2,3\n",
    "\n",
    "(x,y,z) = dust()\n",
    "print(x,y,z)\n"
   ]
  },
  {
   "cell_type": "code",
   "execution_count": null,
   "metadata": {
    "collapsed": true
   },
   "outputs": [],
   "source": [
    "\"\"\"\n",
    "\n",
    "data = [\n",
    "    go.Heatmap(\n",
    "        z=z,\n",
    "        x=date_list,\n",
    "        y=programmers,\n",
    "        colorscale='Viridis',\n",
    "    )\n",
    "]\n",
    "\n",
    "layout = go.Layout(\n",
    "    title='GitHub commits per day',\n",
    "    xaxis = dict(ticks='', nticks=36),\n",
    "    yaxis = dict(ticks='' )\n",
    ")\n",
    "\n",
    "fig = go.Figure(data=data, layout=layout)\n",
    "py.iplot(fig, filename='datetime-heatmap')\n",
    "\n",
    "\"\"\"\n"
   ]
  }
 ],
 "metadata": {
  "kernelspec": {
   "display_name": "Python 3",
   "language": "python",
   "name": "python3"
  },
  "language_info": {
   "codemirror_mode": {
    "name": "ipython",
    "version": 3
   },
   "file_extension": ".py",
   "mimetype": "text/x-python",
   "name": "python",
   "nbconvert_exporter": "python",
   "pygments_lexer": "ipython3",
   "version": "3.5.2"
  }
 },
 "nbformat": 4,
 "nbformat_minor": 0
}
